{
 "cells": [
  {
   "cell_type": "code",
   "execution_count": null,
   "metadata": {},
   "outputs": [],
   "source": [
    "# Assinment 1"
   ]
  },
  {
   "cell_type": "code",
   "execution_count": null,
   "metadata": {},
   "outputs": [],
   "source": [
    "1. In the below elements which of them are values or an expression? \n",
    "eg:- values can be integer or string and expressions will be mathematical operators.\n",
    "    \n",
    "* \n",
    "'hello'\n",
    "-87.8\n",
    "- \n",
    "/ \n",
    "+\n",
    "6 \n"
   ]
  },
  {
   "cell_type": "code",
   "execution_count": null,
   "metadata": {},
   "outputs": [],
   "source": [
    "Solution:-"
   ]
  },
  {
   "cell_type": "code",
   "execution_count": null,
   "metadata": {},
   "outputs": [],
   "source": [
    "Values: -87.8, 6, 'hello'"
   ]
  },
  {
   "cell_type": "code",
   "execution_count": null,
   "metadata": {},
   "outputs": [],
   "source": [
    "Expresssion: *, -, /, +"
   ]
  },
  {
   "cell_type": "code",
   "execution_count": null,
   "metadata": {},
   "outputs": [],
   "source": [
    "2. What is the difference between string and variable"
   ]
  },
  {
   "cell_type": "code",
   "execution_count": null,
   "metadata": {},
   "outputs": [],
   "source": [
    "                          Variables                                             Strings\n",
    "Definition         1. A named placeholder for a value            1.A sequence of characters enclosed in quotation marks\n",
    "Purpose            2. It Stores and manipulate data              2. It Represents textual information\n",
    "Data Type          3. It Can store different types of data       3. It Specifically stores textual data\n",
    "Value Assignment   4. Assigned using the assignment operator (=) 4. Assigned by enclosing text in single (' ') or double (\" \") quotes\n",
    "Mutability         5.Can be reassigned with a new value          5.Immutable (cannot be changed after creation)\n",
    "Concatenation      6. Can be concatenated with other variables   6. Can be concatenated with other strings using the '+' operator\n",
    "                        or strings using the '+' operator \n",
    "Operations         7. Can perform mathematical operations,logical  7.String-specific operations like concatenation, slicing, \n",
    "                    comparisons, etc. based on their data type        length retrieval, etc.\n",
    "                       \n",
    "Examples             age = 25 name = \"John\"                      message = \"Hello, World!\" name = 'Alice'"
   ]
  },
  {
   "cell_type": "code",
   "execution_count": null,
   "metadata": {},
   "outputs": [],
   "source": [
    "3. Describe three different data types."
   ]
  },
  {
   "cell_type": "code",
   "execution_count": null,
   "metadata": {},
   "outputs": [],
   "source": [
    "List :- List is an ordered collection of items enclosed in square brackets[].\n",
    "        Each item in the list is separated by a comma. Lists can contain elements\n",
    "        of different data types, such as integers, floats, strings, or even other lists.\n",
    "        Example:- Fruits = [\"Apple\",\"Banana\",\"Orange\"]\n",
    "                  numbers = [2,4,5,6,7,7]\n",
    "                  mixed_ele = [\"hello\", 5, 9.7, [3,4,5],[\"a\",\"b\"], True]\n",
    "\n",
    "                    \n",
    "        Characteristics:\n",
    "        Ordered: The element in a list have a specific order, and this order is maintatined.\n",
    "        Mutable:- List can be modified by adding, removing, or modifying elements.\n",
    "        Accessible by index:- Elements in a list can be accessed using their index values, starting\n",
    "                                from 0. \n",
    "        Various Method: Lists have various methods such as Append, extend, slicing, sort and more.\n",
    "                \n",
    "\n",
    "Dictionary:- A dictionary is an unordered collection of key-value pairs, encloseded in\n",
    "            curly braces{}. Each key-value pair is seperated by a colon(:) and the pairs are\n",
    "            separated by commas. Dictionaries are used to store and retrieve data using unique\n",
    "            keys instaed of numerical indexes.\n",
    "            Example:- Student ={'name':'pranali', 'age' = 25, 'grade':'A'}\n",
    "                      fruit_prices = {'apple':1.99, 'banana':0.99, 'orange':1.34}\n",
    "                    \n",
    "            characteristics:\n",
    "            key-value mapping:Data is stored in key value pairs where each key is unique and\n",
    "                              associated with a corresponding value.\n",
    "            Unordered: The items in a dictionary are not ordered or indexed. To access a values\n",
    "                       we need to refer to its corresponding key.\n",
    "            Mutable: Dictionaries can be modified by adding, removing, or updating\n",
    "                     key-value pairs.\n",
    "            efficient data retrieval: Dictionaries provide fast data retrieval by using\n",
    "                                      keys instead of iterating through the entire collection.\n",
    "                       \n",
    "            \n",
    "Tuple:- In python a tuple is an ordered, immutable collection of elements.It is defined by enlosing\n",
    "            comma-separated values within parentheses (). Tuples are similar to lists, but the key difference \n",
    "            key difference is that tuple can not be modified once created. This immutability makes tuple suitable\n",
    "            for storing data that should unchanged.\n",
    "            \n",
    "            characteristic:\n",
    "                ordered: Ordered: Tuples maintain the order of elements, meaning the position\n",
    "                        of each item in the tuple is fixed and preserved.\n",
    "                Immutable: Once a tuple is created, its elements cannot be modified, added or \n",
    "                           removed. This immutability ensures data integrity.\n",
    "                Indexed access: Elements within a tuple can be accessed using zero-based indexing\n",
    "                                we can retrieve individual elements or access a range of elements using slicing.\n",
    "                Function Return values: Tuples are commonly used to return multiple values from a function.\n",
    "                                        we can pack multiple values into a tuple and return them, which can be\n",
    "                                        unpacked and assigned to separate variables.\n",
    "                \n",
    "            Example:  person = (\"pranali\", 45, \"pranali@gmail.com\")\n",
    "                      person[0]  #output: pranali"
   ]
  },
  {
   "cell_type": "code",
   "execution_count": null,
   "metadata": {},
   "outputs": [],
   "source": [
    "4. What is an expression made up of? What do all expressions do?"
   ]
  },
  {
   "cell_type": "code",
   "execution_count": null,
   "metadata": {},
   "outputs": [],
   "source": [
    "An expression is a combination of values, variables, operators and function calls that when\n",
    "evaluated, produces a result. It can as simple as a single value or as complex as a combination of \n",
    "multiple elements.Expressions are used to perform computations, manipulate data and produce new values."
   ]
  },
  {
   "cell_type": "code",
   "execution_count": null,
   "metadata": {},
   "outputs": [],
   "source": [
    "values: These can be literals like numbers(eg. 5, 3.14) or strings (eg. \"Heloo\") or they can be variables that hold value.\n",
    "variables: These are names that refer to a value stored in memory. Variables allow to store and retrieve data\n",
    "            during program execution.\n",
    "Operators: These are symbols or special keywords that perform operations on values or variables.\n",
    "            examples include arithmetic operators(+,-,*,/), comparison operators(>,<,==),\n",
    "        logical operators(and, or, not) and more.\n",
    "Function calls:Function are blocks of reusable code that perform specific tasks. Function calls involve\n",
    "                invoking a function by its name, passing arguments(inputs) if necessary, and returning a value.\n",
    "\n",
    "When an expression is evaluated, it produces a value or result. The result can be of various types, such as a number, boolean, string, or even a more complex data structure. Expressions can be used in assignments, as function arguments, in conditional statements, or anywhere a value is expected.\n",
    "# Arithmetic expression\n",
    "result = 2 + 3 * 4  # Evaluates to 14\n",
    "\n",
    "# String concatenation expression\n",
    "greeting = \"Hello, \" + \"world!\"  # Evaluates to \"Hello, world!\"\n",
    "\n",
    "# Function call expression\n",
    "length = len(\"Hello\")  # Evaluates to 5 (length of the string)\n",
    "\n",
    "# Boolean expression\n",
    "is_valid = age >= 18 and has_permission()  # Evaluates to True or False"
   ]
  },
  {
   "cell_type": "code",
   "execution_count": null,
   "metadata": {},
   "outputs": [],
   "source": [
    "5. This assignment statements, like spam = 10. What is the difference between an expression\n",
    "and a statement?"
   ]
  },
  {
   "cell_type": "code",
   "execution_count": null,
   "metadata": {},
   "outputs": [],
   "source": [
    "In Python, expressions and statements are two fundamental concepts that serve different purposes in programming.\n",
    "\n",
    "Expression: An expression is a combination of values, variables, operators, and function calls that,\n",
    "            when evaluated, produces a value or result. Expressions can be as simple as a single value \n",
    "            or as complex as a combination of multiple elements. They are used to perform computations,\n",
    "            manipulate data, and obtain results. Expressions can be used within statements to compute values\n",
    "            or produce side effects.\n",
    "\n",
    "            Examples of expressions:\n",
    "            2 + 3 * 4\n",
    "            \"Hello, \" + \"world!\"\n",
    "            len(\"Hello\")\n",
    "            age >= 18 and has_permission()\n",
    "\n",
    "Statement: A statement is a complete line of code that performs an action. It is a unit of execution\n",
    "        that carries out a specific operation or command. Statements are used to control the flow of the\n",
    "        program, perform assignments, define functions or classes, and interact with the environment.\n",
    "        Unlike expressions, statements do not produce a value as a result.\n",
    "\n",
    "        Examples of statements:\n",
    "        spam = 10 (assignment statement)\n",
    "        if condition:\n",
    "        while condition:\n",
    "        for item in iterable:\n",
    "        def function_name(parameters):\n",
    "        class ClassName:\n",
    "Key differences between expressions and statements:\n",
    "\n",
    "Result: Expressions produce a value or result when evaluated, while statements do not have a value\n",
    "        as an outcome.\n",
    "Completeness: Expressions are often parts of statements, providing values or calculations within a \n",
    "            larger context. Statements, on the other hand, are complete units of code that perform an action \n",
    "            or control the program's flow."
   ]
  },
  {
   "cell_type": "code",
   "execution_count": null,
   "metadata": {},
   "outputs": [],
   "source": [
    "6. After running the following code, what does the variable bacon contain?\n",
    "bacon = 22\n",
    "bacon + 1\n"
   ]
  },
  {
   "cell_type": "code",
   "execution_count": 17,
   "metadata": {},
   "outputs": [
    {
     "data": {
      "text/plain": [
       "23"
      ]
     },
     "execution_count": 17,
     "metadata": {},
     "output_type": "execute_result"
    }
   ],
   "source": [
    "bacon = 22\n",
    "bacon + 1\n",
    "# After running bacon will still contain the value 22 because the exp 'bacon + 1' evaluates to 23\n",
    "# but the result of this expression is not assigned to any variable. The addition operation is performed \n",
    "# and the value of 'bacon +1' is computed but it is not stored anywhere.\n"
   ]
  },
  {
   "cell_type": "code",
   "execution_count": null,
   "metadata": {},
   "outputs": [],
   "source": [
    "7. What should the values of the following two terms be?\n",
    "'spam' + 'spamspam'  \n",
    "'spam' * 3"
   ]
  },
  {
   "cell_type": "code",
   "execution_count": 20,
   "metadata": {},
   "outputs": [
    {
     "data": {
      "text/plain": [
       "'spamspamspam'"
      ]
     },
     "execution_count": 20,
     "metadata": {},
     "output_type": "execute_result"
    }
   ],
   "source": [
    "'spam' + 'spamspam'   #exp performs string concatenation combines two strings together so output is 'spamspamspam' \n",
    "'spam' * 3            #exp performs string repetition 'spam' is repeated 3 times so output is 'spamspamspam'"
   ]
  },
  {
   "cell_type": "code",
   "execution_count": null,
   "metadata": {},
   "outputs": [],
   "source": [
    "8. Why is eggs a valid variable name while 100 is invalid?"
   ]
  },
  {
   "cell_type": "code",
   "execution_count": null,
   "metadata": {},
   "outputs": [],
   "source": [
    "sol: variables names need to follow certain rules and conventions. here while eggs is valid\n",
    "variable name and 100 is considered as invalid variable name, because\n",
    "variables name in python must start with letter(a-z, A-Z) or an underscore(_). They cannot begin with a\n",
    "number this is why 'eggs' is a valid variable name because it starts with a letter 'e'."
   ]
  },
  {
   "cell_type": "code",
   "execution_count": null,
   "metadata": {},
   "outputs": [],
   "source": [
    "9. What three functions can be used to get the integer, floating-point number, or \n",
    "   string version of a value?"
   ]
  },
  {
   "cell_type": "code",
   "execution_count": null,
   "metadata": {},
   "outputs": [],
   "source": [
    "To get the integer, floating-point number or string version of a value in python:-abs\n",
    "1. int() : The int() function is used to convert a variable into an integer. It can convert string representation \n",
    "           of an integer or a floating points number into its integer and if value is already an integer, it remains unchanged\n",
    "           ex:- int_value = int(\"11\") #converts the string 11 to the integer 11.\n",
    "                \n",
    "2. float() :The float function is used to convert a variable into a floating point number.It\n",
    "            can convert string representation of a floating point number or an integer into its floating\n",
    "            equivalent.\n",
    "            ex:- float_value = float(\"22.8\") #converts the string 22.8 into its floating point number\n",
    "            \n",
    "3. str() : The str() function is used to convert a value into its string representation.\n",
    "             It can convert integers, float numbers or any other data type into a string\n",
    "             ex: str_value = str(45) #converts the integer 45 into string '45'\n",
    "        "
   ]
  },
  {
   "cell_type": "code",
   "execution_count": null,
   "metadata": {},
   "outputs": [],
   "source": [
    "10. Why does this expression cause an error? How can you fix it?\n",
    "'I have eaten ' + 99 + ' burritos.'"
   ]
  },
  {
   "cell_type": "code",
   "execution_count": 25,
   "metadata": {},
   "outputs": [
    {
     "data": {
      "text/plain": [
       "'I have eaten 99 burritos.'"
      ]
     },
     "execution_count": 25,
     "metadata": {},
     "output_type": "execute_result"
    }
   ],
   "source": [
    "# Solution : here in this expression 'I have eaten ' + 99 + ' burritos.' we cannot concatenate \n",
    "# strings ('I have eaten') with integer (99) '+' operator is used for string concatenation when both \n",
    "# however when one or both operands are not strings we need to convert it.\n",
    "# To fix this error we have to convert integer 99 to a string using the 'str()' function. here is the output\n",
    "'I have eaten ' + str(99) + ' burritos.'"
   ]
  }
 ],
 "metadata": {
  "kernelspec": {
   "display_name": "Python 3",
   "language": "python",
   "name": "python3"
  },
  "language_info": {
   "codemirror_mode": {
    "name": "ipython",
    "version": 3
   },
   "file_extension": ".py",
   "mimetype": "text/x-python",
   "name": "python",
   "nbconvert_exporter": "python",
   "pygments_lexer": "ipython3",
   "version": "3.8.5"
  }
 },
 "nbformat": 4,
 "nbformat_minor": 4
}
